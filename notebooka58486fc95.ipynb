{
  "metadata": {
    "kernelspec": {
      "language": "python",
      "display_name": "Python 3",
      "name": "python3"
    },
    "language_info": {
      "pygments_lexer": "ipython3",
      "nbconvert_exporter": "python",
      "version": "3.6.4",
      "file_extension": ".py",
      "codemirror_mode": {
        "name": "ipython",
        "version": 3
      },
      "name": "python",
      "mimetype": "text/x-python"
    },
    "colab": {
      "name": "notebooka58486fc95.ipynb",
      "provenance": [],
      "include_colab_link": true
    }
  },
  "nbformat_minor": 0,
  "nbformat": 4,
  "cells": [
    {
      "cell_type": "markdown",
      "metadata": {
        "id": "view-in-github",
        "colab_type": "text"
      },
      "source": [
        "<a href=\"https://colab.research.google.com/github/Codestronomer/HamoyeAI_Internship/blob/main/notebooka58486fc95.ipynb\" target=\"_parent\"><img src=\"https://colab.research.google.com/assets/colab-badge.svg\" alt=\"Open In Colab\"/></a>"
      ]
    },
    {
      "cell_type": "code",
      "source": [
        "# This Python 3 environment comes with many helpful analytics libraries installed\n",
        "# It is defined by the kaggle/python Docker image: https://github.com/kaggle/docker-python\n",
        "# For example, here's several helpful packages to load\n",
        "\n",
        "import numpy as np # linear algebra\n",
        "import pandas as pd # data processing, CSV file I/O (e.g. pd.read_csv)\n",
        "import matplotlib.pyplot as plt\n",
        "import tensorflow as tf\n",
        "from tensorflow import keras\n",
        "import keras.layers as layers\n",
        "from keras.preprocessing.image import img_to_array\n",
        "from keras.preprocessing.image import load_img\n",
        "import keras.models as models\n",
        "from keras import backend\n",
        "\n",
        "# Input data files are available in the read-only \"../input/\" directory\n",
        "# For example, running this (by clicking run or pressing Shift+Enter) will list all files under the input directory\n",
        "\n",
        "import os\n",
        "# for dirname, _, filenames in os.walk('/kaggle/input'):\n",
        "#     for filename in filenames:\n",
        "#         print(os.path.join(dirname, filename))\n",
        "\n",
        "# You can write up to 20GB to the current directory (/kaggle/working/) that gets preserved as output when you create a version using \"Save & Run All\" \n",
        "# You can also write temporary files to /kaggle/temp/, but they won't be saved outside of the current session"
      ],
      "metadata": {
        "_uuid": "8f2839f25d086af736a60e9eeb907d3b93b6e0e5",
        "_cell_guid": "b1076dfc-b9ad-4769-8c92-a6c4dae69d19",
        "execution": {
          "iopub.status.busy": "2022-03-22T08:42:04.491832Z",
          "iopub.execute_input": "2022-03-22T08:42:04.493182Z",
          "iopub.status.idle": "2022-03-22T08:42:11.26149Z",
          "shell.execute_reply.started": "2022-03-22T08:42:04.493046Z",
          "shell.execute_reply": "2022-03-22T08:42:11.260495Z"
        },
        "trusted": true,
        "id": "ewa0a0Vw40AR"
      },
      "execution_count": 1,
      "outputs": []
    },
    {
      "cell_type": "code",
      "source": [
        "train_df = pd.read_csv('/kaggle/input/planets-dataset/planet/planet/train_classes.csv')\n",
        "\n",
        "train_df.head()"
      ],
      "metadata": {
        "execution": {
          "iopub.status.busy": "2022-03-22T08:42:11.264884Z",
          "iopub.execute_input": "2022-03-22T08:42:11.265293Z",
          "iopub.status.idle": "2022-03-22T08:42:11.35393Z",
          "shell.execute_reply.started": "2022-03-22T08:42:11.265245Z",
          "shell.execute_reply": "2022-03-22T08:42:11.352862Z"
        },
        "trusted": true,
        "colab": {
          "base_uri": "https://localhost:8080/",
          "height": 345
        },
        "id": "L40_NJxA40Af",
        "outputId": "8654a299-ee7e-44a5-8836-c2e69938b2f2"
      },
      "execution_count": 2,
      "outputs": [
        {
          "output_type": "error",
          "ename": "FileNotFoundError",
          "evalue": "ignored",
          "traceback": [
            "\u001b[0;31m---------------------------------------------------------------------------\u001b[0m",
            "\u001b[0;31mFileNotFoundError\u001b[0m                         Traceback (most recent call last)",
            "\u001b[0;32m<ipython-input-2-9b0c368ef370>\u001b[0m in \u001b[0;36m<module>\u001b[0;34m()\u001b[0m\n\u001b[0;32m----> 1\u001b[0;31m \u001b[0mtrain_df\u001b[0m \u001b[0;34m=\u001b[0m \u001b[0mpd\u001b[0m\u001b[0;34m.\u001b[0m\u001b[0mread_csv\u001b[0m\u001b[0;34m(\u001b[0m\u001b[0;34m'/kaggle/input/planets-dataset/planet/planet/train_classes.csv'\u001b[0m\u001b[0;34m)\u001b[0m\u001b[0;34m\u001b[0m\u001b[0;34m\u001b[0m\u001b[0m\n\u001b[0m\u001b[1;32m      2\u001b[0m \u001b[0;34m\u001b[0m\u001b[0m\n\u001b[1;32m      3\u001b[0m \u001b[0mtrain_df\u001b[0m\u001b[0;34m.\u001b[0m\u001b[0mhead\u001b[0m\u001b[0;34m(\u001b[0m\u001b[0;34m)\u001b[0m\u001b[0;34m\u001b[0m\u001b[0;34m\u001b[0m\u001b[0m\n",
            "\u001b[0;32m/usr/local/lib/python3.7/dist-packages/pandas/util/_decorators.py\u001b[0m in \u001b[0;36mwrapper\u001b[0;34m(*args, **kwargs)\u001b[0m\n\u001b[1;32m    309\u001b[0m                     \u001b[0mstacklevel\u001b[0m\u001b[0;34m=\u001b[0m\u001b[0mstacklevel\u001b[0m\u001b[0;34m,\u001b[0m\u001b[0;34m\u001b[0m\u001b[0;34m\u001b[0m\u001b[0m\n\u001b[1;32m    310\u001b[0m                 )\n\u001b[0;32m--> 311\u001b[0;31m             \u001b[0;32mreturn\u001b[0m \u001b[0mfunc\u001b[0m\u001b[0;34m(\u001b[0m\u001b[0;34m*\u001b[0m\u001b[0margs\u001b[0m\u001b[0;34m,\u001b[0m \u001b[0;34m**\u001b[0m\u001b[0mkwargs\u001b[0m\u001b[0;34m)\u001b[0m\u001b[0;34m\u001b[0m\u001b[0;34m\u001b[0m\u001b[0m\n\u001b[0m\u001b[1;32m    312\u001b[0m \u001b[0;34m\u001b[0m\u001b[0m\n\u001b[1;32m    313\u001b[0m         \u001b[0;32mreturn\u001b[0m \u001b[0mwrapper\u001b[0m\u001b[0;34m\u001b[0m\u001b[0;34m\u001b[0m\u001b[0m\n",
            "\u001b[0;32m/usr/local/lib/python3.7/dist-packages/pandas/io/parsers/readers.py\u001b[0m in \u001b[0;36mread_csv\u001b[0;34m(filepath_or_buffer, sep, delimiter, header, names, index_col, usecols, squeeze, prefix, mangle_dupe_cols, dtype, engine, converters, true_values, false_values, skipinitialspace, skiprows, skipfooter, nrows, na_values, keep_default_na, na_filter, verbose, skip_blank_lines, parse_dates, infer_datetime_format, keep_date_col, date_parser, dayfirst, cache_dates, iterator, chunksize, compression, thousands, decimal, lineterminator, quotechar, quoting, doublequote, escapechar, comment, encoding, encoding_errors, dialect, error_bad_lines, warn_bad_lines, on_bad_lines, delim_whitespace, low_memory, memory_map, float_precision, storage_options)\u001b[0m\n\u001b[1;32m    584\u001b[0m     \u001b[0mkwds\u001b[0m\u001b[0;34m.\u001b[0m\u001b[0mupdate\u001b[0m\u001b[0;34m(\u001b[0m\u001b[0mkwds_defaults\u001b[0m\u001b[0;34m)\u001b[0m\u001b[0;34m\u001b[0m\u001b[0;34m\u001b[0m\u001b[0m\n\u001b[1;32m    585\u001b[0m \u001b[0;34m\u001b[0m\u001b[0m\n\u001b[0;32m--> 586\u001b[0;31m     \u001b[0;32mreturn\u001b[0m \u001b[0m_read\u001b[0m\u001b[0;34m(\u001b[0m\u001b[0mfilepath_or_buffer\u001b[0m\u001b[0;34m,\u001b[0m \u001b[0mkwds\u001b[0m\u001b[0;34m)\u001b[0m\u001b[0;34m\u001b[0m\u001b[0;34m\u001b[0m\u001b[0m\n\u001b[0m\u001b[1;32m    587\u001b[0m \u001b[0;34m\u001b[0m\u001b[0m\n\u001b[1;32m    588\u001b[0m \u001b[0;34m\u001b[0m\u001b[0m\n",
            "\u001b[0;32m/usr/local/lib/python3.7/dist-packages/pandas/io/parsers/readers.py\u001b[0m in \u001b[0;36m_read\u001b[0;34m(filepath_or_buffer, kwds)\u001b[0m\n\u001b[1;32m    480\u001b[0m \u001b[0;34m\u001b[0m\u001b[0m\n\u001b[1;32m    481\u001b[0m     \u001b[0;31m# Create the parser.\u001b[0m\u001b[0;34m\u001b[0m\u001b[0;34m\u001b[0m\u001b[0;34m\u001b[0m\u001b[0m\n\u001b[0;32m--> 482\u001b[0;31m     \u001b[0mparser\u001b[0m \u001b[0;34m=\u001b[0m \u001b[0mTextFileReader\u001b[0m\u001b[0;34m(\u001b[0m\u001b[0mfilepath_or_buffer\u001b[0m\u001b[0;34m,\u001b[0m \u001b[0;34m**\u001b[0m\u001b[0mkwds\u001b[0m\u001b[0;34m)\u001b[0m\u001b[0;34m\u001b[0m\u001b[0;34m\u001b[0m\u001b[0m\n\u001b[0m\u001b[1;32m    483\u001b[0m \u001b[0;34m\u001b[0m\u001b[0m\n\u001b[1;32m    484\u001b[0m     \u001b[0;32mif\u001b[0m \u001b[0mchunksize\u001b[0m \u001b[0;32mor\u001b[0m \u001b[0miterator\u001b[0m\u001b[0;34m:\u001b[0m\u001b[0;34m\u001b[0m\u001b[0;34m\u001b[0m\u001b[0m\n",
            "\u001b[0;32m/usr/local/lib/python3.7/dist-packages/pandas/io/parsers/readers.py\u001b[0m in \u001b[0;36m__init__\u001b[0;34m(self, f, engine, **kwds)\u001b[0m\n\u001b[1;32m    809\u001b[0m             \u001b[0mself\u001b[0m\u001b[0;34m.\u001b[0m\u001b[0moptions\u001b[0m\u001b[0;34m[\u001b[0m\u001b[0;34m\"has_index_names\"\u001b[0m\u001b[0;34m]\u001b[0m \u001b[0;34m=\u001b[0m \u001b[0mkwds\u001b[0m\u001b[0;34m[\u001b[0m\u001b[0;34m\"has_index_names\"\u001b[0m\u001b[0;34m]\u001b[0m\u001b[0;34m\u001b[0m\u001b[0;34m\u001b[0m\u001b[0m\n\u001b[1;32m    810\u001b[0m \u001b[0;34m\u001b[0m\u001b[0m\n\u001b[0;32m--> 811\u001b[0;31m         \u001b[0mself\u001b[0m\u001b[0;34m.\u001b[0m\u001b[0m_engine\u001b[0m \u001b[0;34m=\u001b[0m \u001b[0mself\u001b[0m\u001b[0;34m.\u001b[0m\u001b[0m_make_engine\u001b[0m\u001b[0;34m(\u001b[0m\u001b[0mself\u001b[0m\u001b[0;34m.\u001b[0m\u001b[0mengine\u001b[0m\u001b[0;34m)\u001b[0m\u001b[0;34m\u001b[0m\u001b[0;34m\u001b[0m\u001b[0m\n\u001b[0m\u001b[1;32m    812\u001b[0m \u001b[0;34m\u001b[0m\u001b[0m\n\u001b[1;32m    813\u001b[0m     \u001b[0;32mdef\u001b[0m \u001b[0mclose\u001b[0m\u001b[0;34m(\u001b[0m\u001b[0mself\u001b[0m\u001b[0;34m)\u001b[0m\u001b[0;34m:\u001b[0m\u001b[0;34m\u001b[0m\u001b[0;34m\u001b[0m\u001b[0m\n",
            "\u001b[0;32m/usr/local/lib/python3.7/dist-packages/pandas/io/parsers/readers.py\u001b[0m in \u001b[0;36m_make_engine\u001b[0;34m(self, engine)\u001b[0m\n\u001b[1;32m   1038\u001b[0m             )\n\u001b[1;32m   1039\u001b[0m         \u001b[0;31m# error: Too many arguments for \"ParserBase\"\u001b[0m\u001b[0;34m\u001b[0m\u001b[0;34m\u001b[0m\u001b[0;34m\u001b[0m\u001b[0m\n\u001b[0;32m-> 1040\u001b[0;31m         \u001b[0;32mreturn\u001b[0m \u001b[0mmapping\u001b[0m\u001b[0;34m[\u001b[0m\u001b[0mengine\u001b[0m\u001b[0;34m]\u001b[0m\u001b[0;34m(\u001b[0m\u001b[0mself\u001b[0m\u001b[0;34m.\u001b[0m\u001b[0mf\u001b[0m\u001b[0;34m,\u001b[0m \u001b[0;34m**\u001b[0m\u001b[0mself\u001b[0m\u001b[0;34m.\u001b[0m\u001b[0moptions\u001b[0m\u001b[0;34m)\u001b[0m  \u001b[0;31m# type: ignore[call-arg]\u001b[0m\u001b[0;34m\u001b[0m\u001b[0;34m\u001b[0m\u001b[0m\n\u001b[0m\u001b[1;32m   1041\u001b[0m \u001b[0;34m\u001b[0m\u001b[0m\n\u001b[1;32m   1042\u001b[0m     \u001b[0;32mdef\u001b[0m \u001b[0m_failover_to_python\u001b[0m\u001b[0;34m(\u001b[0m\u001b[0mself\u001b[0m\u001b[0;34m)\u001b[0m\u001b[0;34m:\u001b[0m\u001b[0;34m\u001b[0m\u001b[0;34m\u001b[0m\u001b[0m\n",
            "\u001b[0;32m/usr/local/lib/python3.7/dist-packages/pandas/io/parsers/c_parser_wrapper.py\u001b[0m in \u001b[0;36m__init__\u001b[0;34m(self, src, **kwds)\u001b[0m\n\u001b[1;32m     49\u001b[0m \u001b[0;34m\u001b[0m\u001b[0m\n\u001b[1;32m     50\u001b[0m         \u001b[0;31m# open handles\u001b[0m\u001b[0;34m\u001b[0m\u001b[0;34m\u001b[0m\u001b[0;34m\u001b[0m\u001b[0m\n\u001b[0;32m---> 51\u001b[0;31m         \u001b[0mself\u001b[0m\u001b[0;34m.\u001b[0m\u001b[0m_open_handles\u001b[0m\u001b[0;34m(\u001b[0m\u001b[0msrc\u001b[0m\u001b[0;34m,\u001b[0m \u001b[0mkwds\u001b[0m\u001b[0;34m)\u001b[0m\u001b[0;34m\u001b[0m\u001b[0;34m\u001b[0m\u001b[0m\n\u001b[0m\u001b[1;32m     52\u001b[0m         \u001b[0;32massert\u001b[0m \u001b[0mself\u001b[0m\u001b[0;34m.\u001b[0m\u001b[0mhandles\u001b[0m \u001b[0;32mis\u001b[0m \u001b[0;32mnot\u001b[0m \u001b[0;32mNone\u001b[0m\u001b[0;34m\u001b[0m\u001b[0;34m\u001b[0m\u001b[0m\n\u001b[1;32m     53\u001b[0m \u001b[0;34m\u001b[0m\u001b[0m\n",
            "\u001b[0;32m/usr/local/lib/python3.7/dist-packages/pandas/io/parsers/base_parser.py\u001b[0m in \u001b[0;36m_open_handles\u001b[0;34m(self, src, kwds)\u001b[0m\n\u001b[1;32m    227\u001b[0m             \u001b[0mmemory_map\u001b[0m\u001b[0;34m=\u001b[0m\u001b[0mkwds\u001b[0m\u001b[0;34m.\u001b[0m\u001b[0mget\u001b[0m\u001b[0;34m(\u001b[0m\u001b[0;34m\"memory_map\"\u001b[0m\u001b[0;34m,\u001b[0m \u001b[0;32mFalse\u001b[0m\u001b[0;34m)\u001b[0m\u001b[0;34m,\u001b[0m\u001b[0;34m\u001b[0m\u001b[0;34m\u001b[0m\u001b[0m\n\u001b[1;32m    228\u001b[0m             \u001b[0mstorage_options\u001b[0m\u001b[0;34m=\u001b[0m\u001b[0mkwds\u001b[0m\u001b[0;34m.\u001b[0m\u001b[0mget\u001b[0m\u001b[0;34m(\u001b[0m\u001b[0;34m\"storage_options\"\u001b[0m\u001b[0;34m,\u001b[0m \u001b[0;32mNone\u001b[0m\u001b[0;34m)\u001b[0m\u001b[0;34m,\u001b[0m\u001b[0;34m\u001b[0m\u001b[0;34m\u001b[0m\u001b[0m\n\u001b[0;32m--> 229\u001b[0;31m             \u001b[0merrors\u001b[0m\u001b[0;34m=\u001b[0m\u001b[0mkwds\u001b[0m\u001b[0;34m.\u001b[0m\u001b[0mget\u001b[0m\u001b[0;34m(\u001b[0m\u001b[0;34m\"encoding_errors\"\u001b[0m\u001b[0;34m,\u001b[0m \u001b[0;34m\"strict\"\u001b[0m\u001b[0;34m)\u001b[0m\u001b[0;34m,\u001b[0m\u001b[0;34m\u001b[0m\u001b[0;34m\u001b[0m\u001b[0m\n\u001b[0m\u001b[1;32m    230\u001b[0m         )\n\u001b[1;32m    231\u001b[0m \u001b[0;34m\u001b[0m\u001b[0m\n",
            "\u001b[0;32m/usr/local/lib/python3.7/dist-packages/pandas/io/common.py\u001b[0m in \u001b[0;36mget_handle\u001b[0;34m(path_or_buf, mode, encoding, compression, memory_map, is_text, errors, storage_options)\u001b[0m\n\u001b[1;32m    705\u001b[0m                 \u001b[0mencoding\u001b[0m\u001b[0;34m=\u001b[0m\u001b[0mioargs\u001b[0m\u001b[0;34m.\u001b[0m\u001b[0mencoding\u001b[0m\u001b[0;34m,\u001b[0m\u001b[0;34m\u001b[0m\u001b[0;34m\u001b[0m\u001b[0m\n\u001b[1;32m    706\u001b[0m                 \u001b[0merrors\u001b[0m\u001b[0;34m=\u001b[0m\u001b[0merrors\u001b[0m\u001b[0;34m,\u001b[0m\u001b[0;34m\u001b[0m\u001b[0;34m\u001b[0m\u001b[0m\n\u001b[0;32m--> 707\u001b[0;31m                 \u001b[0mnewline\u001b[0m\u001b[0;34m=\u001b[0m\u001b[0;34m\"\"\u001b[0m\u001b[0;34m,\u001b[0m\u001b[0;34m\u001b[0m\u001b[0;34m\u001b[0m\u001b[0m\n\u001b[0m\u001b[1;32m    708\u001b[0m             )\n\u001b[1;32m    709\u001b[0m         \u001b[0;32melse\u001b[0m\u001b[0;34m:\u001b[0m\u001b[0;34m\u001b[0m\u001b[0;34m\u001b[0m\u001b[0m\n",
            "\u001b[0;31mFileNotFoundError\u001b[0m: [Errno 2] No such file or directory: '/kaggle/input/planets-dataset/planet/planet/train_classes.csv'"
          ]
        }
      ]
    },
    {
      "cell_type": "code",
      "source": [
        "train_df['tags'].values"
      ],
      "metadata": {
        "execution": {
          "iopub.status.busy": "2022-03-22T08:42:11.355223Z",
          "iopub.execute_input": "2022-03-22T08:42:11.355473Z",
          "iopub.status.idle": "2022-03-22T08:42:11.365617Z",
          "shell.execute_reply.started": "2022-03-22T08:42:11.355442Z",
          "shell.execute_reply": "2022-03-22T08:42:11.364686Z"
        },
        "trusted": true,
        "id": "JmNOl7I540Ah"
      },
      "execution_count": null,
      "outputs": []
    },
    {
      "cell_type": "code",
      "source": [
        "train_df.describe()"
      ],
      "metadata": {
        "execution": {
          "iopub.status.busy": "2022-03-22T08:42:11.36758Z",
          "iopub.execute_input": "2022-03-22T08:42:11.3683Z",
          "iopub.status.idle": "2022-03-22T08:42:11.439626Z",
          "shell.execute_reply.started": "2022-03-22T08:42:11.368251Z",
          "shell.execute_reply": "2022-03-22T08:42:11.438611Z"
        },
        "trusted": true,
        "id": "HN1frNt_40Aj"
      },
      "execution_count": null,
      "outputs": []
    },
    {
      "cell_type": "code",
      "source": [
        "test_df = pd.read_csv('/kaggle/input/planets-dataset/planet/planet/sample_submission.csv')\n",
        "\n",
        "test_df.head()"
      ],
      "metadata": {
        "execution": {
          "iopub.status.busy": "2022-03-22T08:42:11.441935Z",
          "iopub.execute_input": "2022-03-22T08:42:11.442212Z",
          "iopub.status.idle": "2022-03-22T08:42:11.551479Z",
          "shell.execute_reply.started": "2022-03-22T08:42:11.442182Z",
          "shell.execute_reply": "2022-03-22T08:42:11.550568Z"
        },
        "trusted": true,
        "id": "Nng1bZVv40Al"
      },
      "execution_count": null,
      "outputs": []
    },
    {
      "cell_type": "code",
      "source": [
        "test_df['tags'].values"
      ],
      "metadata": {
        "execution": {
          "iopub.status.busy": "2022-03-22T08:42:11.553267Z",
          "iopub.execute_input": "2022-03-22T08:42:11.55383Z",
          "iopub.status.idle": "2022-03-22T08:42:11.562641Z",
          "shell.execute_reply.started": "2022-03-22T08:42:11.55378Z",
          "shell.execute_reply": "2022-03-22T08:42:11.561457Z"
        },
        "trusted": true,
        "id": "dZ5ZHfnL40Am"
      },
      "execution_count": null,
      "outputs": []
    },
    {
      "cell_type": "code",
      "source": [
        "test_df.describe()"
      ],
      "metadata": {
        "execution": {
          "iopub.status.busy": "2022-03-22T08:42:11.563959Z",
          "iopub.execute_input": "2022-03-22T08:42:11.564288Z",
          "iopub.status.idle": "2022-03-22T08:42:11.651009Z",
          "shell.execute_reply.started": "2022-03-22T08:42:11.564243Z",
          "shell.execute_reply": "2022-03-22T08:42:11.650093Z"
        },
        "trusted": true,
        "id": "ajWBHixc40Ao"
      },
      "execution_count": null,
      "outputs": []
    },
    {
      "cell_type": "code",
      "source": [
        "train_df.shape, test_df.shape"
      ],
      "metadata": {
        "execution": {
          "iopub.status.busy": "2022-03-22T08:42:11.652302Z",
          "iopub.execute_input": "2022-03-22T08:42:11.652527Z",
          "iopub.status.idle": "2022-03-22T08:42:11.6616Z",
          "shell.execute_reply.started": "2022-03-22T08:42:11.652501Z",
          "shell.execute_reply": "2022-03-22T08:42:11.660729Z"
        },
        "trusted": true,
        "id": "JWL1uKCF40Ar"
      },
      "execution_count": null,
      "outputs": []
    },
    {
      "cell_type": "code",
      "source": [
        "# fig, ax = plt.subplots()\n",
        "\n",
        "# ax.bar(train_df['tags'], train_df['image_name'], width=1, edgecolor=\"white\", linewidth=0.7)\n",
        "\n",
        "# plt.show()"
      ],
      "metadata": {
        "execution": {
          "iopub.status.busy": "2022-03-22T08:42:11.663242Z",
          "iopub.execute_input": "2022-03-22T08:42:11.664178Z",
          "iopub.status.idle": "2022-03-22T08:42:11.67042Z",
          "shell.execute_reply.started": "2022-03-22T08:42:11.664084Z",
          "shell.execute_reply": "2022-03-22T08:42:11.669501Z"
        },
        "trusted": true,
        "id": "DPDlCB_840Au"
      },
      "execution_count": null,
      "outputs": []
    },
    {
      "cell_type": "code",
      "source": [
        "def tag_mapping(tag_csv):\n",
        "    '''\n",
        "    returns dictionary that maps tags to integers, and another that \n",
        "    maps integers to tags (inverse).\n",
        "    '''\n",
        "    \n",
        "    all_tags = set()\n",
        "    \n",
        "    for i in range(len(tag_csv)):\n",
        "        \n",
        "        # convert spaced separated tags into an array of tags\n",
        "        tags = tag_csv['tags'][i].split(' ')\n",
        "        all_tags.update(tags)\n",
        "    all_tags = list(all_tags)\n",
        "    \n",
        "    # sort alphabetically\n",
        "    all_tags.sort()\n",
        "    \n",
        "    # dict that maps tags to integers, and the reverse\n",
        "    tags_map = {all_tags[i]:i for i in range(len(all_tags))}\n",
        "    inv_tags_map = {i:all_tags[i] for i in range(len(all_tags))}\n",
        "    \n",
        "    return tags_map, inv_tags_map"
      ],
      "metadata": {
        "execution": {
          "iopub.status.busy": "2022-03-22T08:42:11.672052Z",
          "iopub.execute_input": "2022-03-22T08:42:11.67232Z",
          "iopub.status.idle": "2022-03-22T08:42:11.684184Z",
          "shell.execute_reply.started": "2022-03-22T08:42:11.672285Z",
          "shell.execute_reply": "2022-03-22T08:42:11.683303Z"
        },
        "trusted": true,
        "id": "YJIz3dO740Ax"
      },
      "execution_count": null,
      "outputs": []
    },
    {
      "cell_type": "code",
      "source": [
        "def file_mapping(tag_csv):\n",
        "    '''\n",
        "    returns dictionary with image names as keys and split tags as values.\n",
        "    '''\n",
        "    mapping = dict()\n",
        "    for i in range(len(tag_csv)):\n",
        "        \n",
        "        name, tags = tag_csv['image_name'][i], tag_csv['tags'][i]\n",
        "        mapping[name] = tags.split(' ')\n",
        "        \n",
        "    return mapping"
      ],
      "metadata": {
        "execution": {
          "iopub.status.busy": "2022-03-22T08:42:11.686006Z",
          "iopub.execute_input": "2022-03-22T08:42:11.686351Z",
          "iopub.status.idle": "2022-03-22T08:42:11.702699Z",
          "shell.execute_reply.started": "2022-03-22T08:42:11.686311Z",
          "shell.execute_reply": "2022-03-22T08:42:11.701794Z"
        },
        "trusted": true,
        "id": "c9BgsQGz40A0"
      },
      "execution_count": null,
      "outputs": []
    },
    {
      "cell_type": "code",
      "source": [
        "def one_hot_encode(tags, mapping):\n",
        "    encoding = np.zeros(len(mapping), dtype='uint8')\n",
        "    \n",
        "    for tag in tags:\n",
        "        encoding[mapping[tag]] = 1\n",
        "        \n",
        "    return encoding"
      ],
      "metadata": {
        "execution": {
          "iopub.status.busy": "2022-03-22T08:42:11.70443Z",
          "iopub.execute_input": "2022-03-22T08:42:11.704942Z",
          "iopub.status.idle": "2022-03-22T08:42:11.716588Z",
          "shell.execute_reply.started": "2022-03-22T08:42:11.704908Z",
          "shell.execute_reply": "2022-03-22T08:42:11.715675Z"
        },
        "trusted": true,
        "id": "UVQV8fBr40A2"
      },
      "execution_count": null,
      "outputs": []
    },
    {
      "cell_type": "code",
      "source": [
        "def make_dataset(path,file_mapping,tag_mapping):\n",
        "    photos,targets=list(),list()\n",
        "    for filename in os.listdir(path):\n",
        "        photo=load_img(path+filename,target_size=(75,75))\n",
        "        photo=img_to_array(photo,dtype='uint8')\n",
        "        tags=file_mapping[filename[:-4]]\n",
        "        target=one_hot_encode(tags,tag_mapping)\n",
        "        photos.append(photo)\n",
        "        targets.append(target)\n",
        "    X=np.asarray(photos,dtype='uint8')\n",
        "    y=np.asarray(targets,dtype='uint8')\n",
        "    return X,y"
      ],
      "metadata": {
        "execution": {
          "iopub.status.busy": "2022-03-22T08:42:11.717756Z",
          "iopub.execute_input": "2022-03-22T08:42:11.718458Z",
          "iopub.status.idle": "2022-03-22T08:42:11.730384Z",
          "shell.execute_reply.started": "2022-03-22T08:42:11.718411Z",
          "shell.execute_reply": "2022-03-22T08:42:11.729591Z"
        },
        "trusted": true,
        "id": "ziGmYt8740A3"
      },
      "execution_count": null,
      "outputs": []
    },
    {
      "cell_type": "code",
      "source": [
        "tags_mapping,_=tag_mapping(train_df)\n",
        "files_mapping=file_mapping(train_df)\n",
        "path='/kaggle/input/planets-dataset/planet/planet/train-jpg/'\n",
        "X,y=make_dataset(path,files_mapping,tags_mapping)\n",
        "\n",
        "print('X shape:', X.shape, 'y shape:', y.shape)"
      ],
      "metadata": {
        "execution": {
          "iopub.status.busy": "2022-03-22T08:42:11.73349Z",
          "iopub.execute_input": "2022-03-22T08:42:11.734252Z"
        },
        "trusted": true,
        "id": "8s7BsJBK40A5"
      },
      "execution_count": null,
      "outputs": []
    },
    {
      "cell_type": "code",
      "source": [
        "from tensorflow.keras.preprocessing.image import ImageDataGenerator\n",
        "from sklearn.metrics import fbeta_score\n",
        "from sklearn.model_selection import train_test_split\n",
        "from tensorflow.keras.optimizers import RMSprop"
      ],
      "metadata": {
        "trusted": true,
        "id": "n59yo3bA40A7"
      },
      "execution_count": null,
      "outputs": []
    },
    {
      "cell_type": "code",
      "source": [
        "X_train, X_test, y_train, y_test = train_test_split(X, y, test_size=0.3, random_state=1)"
      ],
      "metadata": {
        "trusted": true,
        "id": "4gNywCTs40A9"
      },
      "execution_count": null,
      "outputs": []
    },
    {
      "cell_type": "code",
      "source": [
        "# make all one predictions\n",
        "train_yhat = np.asarray([np.ones(y_train.shape[1]) for _ in range(y_train.shape[0])])\n",
        "test_yhat = np.asarray([np.ones(y_test.shape[1]) for _ in range(y_test.shape[0])])"
      ],
      "metadata": {
        "trusted": true,
        "id": "bVGjhJQe40A_"
      },
      "execution_count": null,
      "outputs": []
    },
    {
      "cell_type": "code",
      "source": [
        "train_score = fbeta_score(y_train, train_yhat, beta=2, average='samples')\n",
        "test_score = fbeta_score(y_test, test_yhat, beta=2, average='samples')\n",
        "print('All Ones: train=%.3f, test=%.3f' % (train_score, test_score))"
      ],
      "metadata": {
        "trusted": true,
        "id": "7ewCQG0u40BB"
      },
      "execution_count": null,
      "outputs": []
    },
    {
      "cell_type": "markdown",
      "source": [
        "An fbeta score function that can be used by keras\n",
        "\n"
      ],
      "metadata": {
        "id": "EbRpayDf40BC"
      }
    },
    {
      "cell_type": "code",
      "source": [
        "def calculate_fbeta_score(y_true, y_pred, beta=2):\n",
        "    y_pred = backend.clip(y_pred, 0, 1)\n",
        "\n",
        "    tp = backend.sum(backend.round(backend.clip(y_true * y_pred, 0, 1)), axis=1)\n",
        "    fp = backend.sum(backend.round(backend.clip(y_pred - y_true, 0, 1)), axis=1)\n",
        "    fn = backend.sum(backend.round(backend.clip(y_true - y_pred, 0, 1)), axis=1)\n",
        "    p = tp / (tp + fp + backend.epsilon())\n",
        "    r = tp / (tp + fn + backend.epsilon())\n",
        "    bb = beta ** 2\n",
        "    fbeta_score = backend.mean((1 + bb) * (p * r) / (bb * p + r + backend.epsilon()))\n",
        "    return fbeta_score"
      ],
      "metadata": {
        "trusted": true,
        "id": "AxBJl4uz40BG"
      },
      "execution_count": null,
      "outputs": []
    },
    {
      "cell_type": "code",
      "source": [
        "import tensorflow as tf \n",
        "from tensorflow.compat.v1 import Session as sess \n",
        "tf.compat.v1.disable_eager_execution()"
      ],
      "metadata": {
        "trusted": true,
        "id": "G72CWkGJ40BI"
      },
      "execution_count": null,
      "outputs": []
    },
    {
      "cell_type": "code",
      "source": [
        "# test calculate_fbeta_score - to ensure result is equal to sk-learn result\n",
        "train_score = calculate_fbeta_score(backend.variable(y_train), backend.variable(train_yhat)).eval(session=backend.get_session())\n",
        "test_score = calculate_fbeta_score(backend.variable(y_test), backend.variable(test_yhat)).eval(session=backend.get_session())\n",
        "print('All Ones (keras): train=%.3f, test=%.3f' % (train_score, test_score))"
      ],
      "metadata": {
        "trusted": true,
        "id": "zmnG5xCE40BJ"
      },
      "execution_count": null,
      "outputs": []
    },
    {
      "cell_type": "code",
      "source": [
        "from keras.applications import InceptionV3\n",
        "model=InceptionV3(input_shape=(75,75,3),include_top=False)\n",
        "for layer in model.layers:\n",
        "    layers.trainable=False\n",
        "last_layer=model.get_layer('mixed7')\n",
        "last_output=last_layer.output\n",
        "    \n",
        "x=layers.Flatten()(last_output)\n",
        "x=layers.Dense(1024,activation='relu')(x)\n",
        "x=layers.Dense(512,activation='relu')(x)\n",
        "x=layers.Dropout(0.2)(x)\n",
        "x=layers.Dense(17,activation='sigmoid')(x)\n",
        "model=models.Model(model.inputs,x)\n",
        "model.compile(optimizer=RMSprop(lr=0.0001),loss='binary_crossentropy',metrics=[fbeta])"
      ],
      "metadata": {
        "trusted": true,
        "id": "gmXdifpz40BK"
      },
      "execution_count": null,
      "outputs": []
    },
    {
      "cell_type": "code",
      "source": [
        "train_datagen=ImageDataGenerator(rescale=1.0/255.0,horizontal_flip=True, vertical_flip=True, rotation_range=90)\n",
        "test_datagen=ImageDataGenerator(rescale=1.0/255.0)"
      ],
      "metadata": {
        "trusted": true,
        "id": "Aovvhi3C40BM"
      },
      "execution_count": null,
      "outputs": []
    },
    {
      "cell_type": "code",
      "source": [
        "train_gen=train_datagen.flow(X_train,y_train,batch_size=64)\n",
        "test_gen=test_datagen.flow(X_test,y_test,batch_size=64)"
      ],
      "metadata": {
        "trusted": true,
        "id": "xQcIEiv340BN"
      },
      "execution_count": null,
      "outputs": []
    },
    {
      "cell_type": "code",
      "source": [
        "history = model.fit(train_gen,steps_per_epoch=500,validation_data=test_gen, validation_steps=127, epochs=250, verbose=0)"
      ],
      "metadata": {
        "trusted": true,
        "id": "fBHZ3p-u40BO"
      },
      "execution_count": null,
      "outputs": []
    },
    {
      "cell_type": "code",
      "source": [
        "loss, fbeta =model.evaluate_generator(test_gen, steps=8, verbose=0)\n",
        "print('> loss=%.3f, fbeta=%.3f' % (loss, fbeta))"
      ],
      "metadata": {
        "trusted": true,
        "id": "AlY8p6E240BP"
      },
      "execution_count": null,
      "outputs": []
    },
    {
      "cell_type": "code",
      "source": [
        "history.history['fbeta']"
      ],
      "metadata": {
        "trusted": true,
        "id": "STjuu1In40BQ"
      },
      "execution_count": null,
      "outputs": []
    },
    {
      "cell_type": "code",
      "source": [
        "test_path_1='/kaggle/input/planets-dataset/planet/planet/test-jpg/'\n",
        "test_path_2='/kaggle/input/planets-dataset/test-jpg-additional/test-jpg-additional/'"
      ],
      "metadata": {
        "trusted": true,
        "id": "jnDOKL0m40BR"
      },
      "execution_count": null,
      "outputs": []
    },
    {
      "cell_type": "code",
      "source": [
        "submission_df=pd.read_csv('/kaggle/input/planet-understanding-the-amazon-from-space/sample_submission_v2.csv/sample_submission_v2.csv')"
      ],
      "metadata": {
        "trusted": true,
        "id": "NKDMHrg-40BS"
      },
      "execution_count": null,
      "outputs": []
    },
    {
      "cell_type": "code",
      "source": [
        "photo_test=[]\n",
        "for filename in submission_df['image_name']:\n",
        "    if filename[:1]=='t':\n",
        "        img=load_img(test_path_1+filename+'.jpg',target_size=(75,75))\n",
        "    elif filename[:1]=='f':\n",
        "        img=load_img(test_path_2+filename+'.jpg',target_size=(75,75))\n",
        "    ph=img_to_array(img,dtype='uint8')\n",
        "    photo_test.append(ph)"
      ],
      "metadata": {
        "trusted": true,
        "id": "T3wFIM9o40BT"
      },
      "execution_count": null,
      "outputs": []
    },
    {
      "cell_type": "code",
      "source": [
        "test_x=np.asarray(photo_test,dtype='uint8')\n",
        "\n",
        "image_gen_test=ImageDataGenerator(rescale=1/255.0)\n",
        "test_data_gen=image_gen_test.flow(test_x,shuffle=False,batch_size=64)"
      ],
      "metadata": {
        "trusted": true,
        "id": "KGWORFAj40BU"
      },
      "execution_count": null,
      "outputs": []
    },
    {
      "cell_type": "code",
      "source": [
        "result=model.predict(test_data_gen)"
      ],
      "metadata": {
        "trusted": true,
        "id": "DPZs9rSy40BV"
      },
      "execution_count": null,
      "outputs": []
    },
    {
      "cell_type": "code",
      "source": [
        "new_df=pd.DataFrame(result,columns=tags_mapping.keys())"
      ],
      "metadata": {
        "trusted": true,
        "id": "wp1zJGEo40BV"
      },
      "execution_count": null,
      "outputs": []
    },
    {
      "cell_type": "code",
      "source": [
        "tags=new_df.columns\n",
        "pred_tags=new_df.apply(lambda x: ' '.join(tags[x>0.5]),axis=1)"
      ],
      "metadata": {
        "trusted": true,
        "id": "VKfprQnq40BW"
      },
      "execution_count": null,
      "outputs": []
    },
    {
      "cell_type": "code",
      "source": [
        "pred_tag=pd.DataFrame(pred_tags,columns=['tags'])"
      ],
      "metadata": {
        "trusted": true,
        "id": "wDFAUmQW40BW"
      },
      "execution_count": null,
      "outputs": []
    },
    {
      "cell_type": "code",
      "source": [
        "submission_df['tags']=pred_tag['tags']\n",
        "\n",
        "submission_df.to_csv('attempt_4.csv',index=False)\n",
        "\n",
        "submission_df.head()"
      ],
      "metadata": {
        "trusted": true,
        "id": "HL6P8MV_40BX"
      },
      "execution_count": null,
      "outputs": []
    }
  ]
}